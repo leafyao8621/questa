{
 "cells": [
  {
   "cell_type": "markdown",
   "metadata": {},
   "source": [
    "# QUESTA Simulation"
   ]
  },
  {
   "cell_type": "code",
   "execution_count": 1,
   "metadata": {},
   "outputs": [],
   "source": [
    "import math\n",
    "\n",
    "import numpy\n",
    "import scipy.stats\n",
    "import matplotlib.pyplot\n",
    "\n",
    "import questa.simulator"
   ]
  },
  {
   "cell_type": "code",
   "execution_count": 2,
   "metadata": {},
   "outputs": [],
   "source": [
    "s =\\\n",
    "    [\n",
    "        0.1, 0.2, 0.3, 0.4, 0.5, 0.6, 0.7, 0.8, 0.9, 0.91, 0.92,\n",
    "        0.93, 0.94, 0.95, 0.96, 0.961, 0.962, 0.963, 0.964, 0.965,\n",
    "        0.966, 0.967, 0.968, 0.969, 0.97, 0.971, 0.972, 0.973,\n",
    "        0.974, 0.975, 0.976, 0.977, 0.978, 0.979, 0.98, 0.981,\n",
    "        0.982, 0.983, 0.984, 0.985, 0.986, 0.987, 0.988, 0.989,\n",
    "        0.99, 0.991, 0.992, 0.993, 0.994, 0.995, 0.996, 0.997,\n",
    "        0.998, 0.999\n",
    "    ]"
   ]
  },
  {
   "cell_type": "markdown",
   "metadata": {},
   "source": [
    "## 2 $\\times$ 2 Queue Length 1M Warmup 1M Iters"
   ]
  },
  {
   "cell_type": "code",
   "execution_count": 3,
   "metadata": {},
   "outputs": [
    {
     "name": "stdout",
     "output_type": "stream",
     "text": [
      "0.1\n",
      "0.2\n",
      "0.3\n",
      "0.4\n",
      "0.5\n",
      "0.6\n",
      "0.7\n",
      "0.8\n",
      "0.9\n",
      "0.91\n",
      "0.92\n",
      "0.93\n",
      "0.94\n",
      "0.95\n",
      "0.96\n",
      "0.961\n",
      "0.962\n",
      "0.963\n",
      "0.964\n",
      "0.965\n",
      "0.966\n",
      "0.967\n",
      "0.968\n",
      "0.969\n",
      "0.97\n",
      "0.971\n",
      "0.972\n",
      "0.973\n",
      "0.974\n",
      "0.975\n",
      "0.976\n",
      "0.977\n",
      "0.978\n",
      "0.979\n",
      "0.98\n",
      "0.981\n",
      "0.982\n",
      "0.983\n",
      "0.984\n",
      "0.985\n",
      "0.986\n",
      "0.987\n",
      "0.988\n",
      "0.989\n",
      "0.99\n",
      "0.991\n",
      "0.992\n",
      "0.993\n",
      "0.994\n",
      "0.995\n",
      "0.996\n",
      "0.997\n",
      "0.998\n",
      "0.999\n"
     ]
    }
   ],
   "source": [
    "out = []\n",
    "for i in s:\n",
    "    print(i)\n",
    "    res =\\\n",
    "        questa.simulator.simulate(\"QUEUE_LENGTH\", i, 1000000, 1000000, 2, 1000)\n",
    "    mean = numpy.mean(res)\n",
    "    sd = numpy.std(res)\n",
    "    hl = scipy.stats.t.ppf(0.975, 1000000 - 1) * sd / math.sqrt(1000000)\n",
    "    out.append((i, numpy.mean(res), mean - hl, mean + hl))\n",
    "data = numpy.array(out)"
   ]
  },
  {
   "cell_type": "code",
   "execution_count": 12,
   "metadata": {},
   "outputs": [
    {
     "data": {
      "text/plain": [
       "<matplotlib.legend.Legend at 0x7f2d61a096d0>"
      ]
     },
     "execution_count": 12,
     "metadata": {},
     "output_type": "execute_result"
    },
    {
     "data": {
      "image/png": "[encoded data removed]",
      "text/plain": [
       "<Figure size 640x480 with 1 Axes>"
      ]
     },
     "metadata": {},
     "output_type": "display_data"
    }
   ],
   "source": [
    "matplotlib.pyplot.plot(data[:, 0], data[:, 1], label=\"mean\")\n",
    "matplotlib.pyplot.plot(data[:, 0], data[:, 2], label=\"95% CI LB\")\n",
    "matplotlib.pyplot.plot(data[:, 0], data[:, 3], label=\"95% CI UB\")\n",
    "matplotlib.pyplot.legend()"
   ]
  },
  {
   "cell_type": "markdown",
   "metadata": {},
   "source": [
    "## 10 $\\times$ 10 Queue Length 1M Warmup 1M Iters"
   ]
  },
  {
   "cell_type": "code",
   "execution_count": null,
   "metadata": {},
   "outputs": [
    {
     "name": "stdout",
     "output_type": "stream",
     "text": [
      "0.1\n",
      "0.2\n",
      "0.3\n",
      "0.4\n",
      "0.5\n",
      "0.6\n"
     ]
    },
    {
     "ename": "KeyboardInterrupt",
     "evalue": "",
     "output_type": "error",
     "traceback": [
      "\u001b[0;31m---------------------------------------------------------------------------\u001b[0m",
      "\u001b[0;31mKeyboardInterrupt\u001b[0m                         Traceback (most recent call last)",
      "Cell \u001b[0;32mIn[13], line 5\u001b[0m\n\u001b[1;32m      2\u001b[0m \u001b[38;5;28;01mfor\u001b[39;00m i \u001b[38;5;129;01min\u001b[39;00m s:\n\u001b[1;32m      3\u001b[0m     \u001b[38;5;28mprint\u001b[39m(i)\n\u001b[1;32m      4\u001b[0m     res \u001b[38;5;241m=\u001b[39m\\\n\u001b[0;32m----> 5\u001b[0m         \u001b[43mquesta\u001b[49m\u001b[38;5;241;43m.\u001b[39;49m\u001b[43msimulator\u001b[49m\u001b[38;5;241;43m.\u001b[39;49m\u001b[43msimulate\u001b[49m\u001b[43m(\u001b[49m\u001b[38;5;124;43m\"\u001b[39;49m\u001b[38;5;124;43mQUEUE_LENGTH\u001b[39;49m\u001b[38;5;124;43m\"\u001b[39;49m\u001b[43m,\u001b[49m\u001b[43m \u001b[49m\u001b[43mi\u001b[49m\u001b[43m,\u001b[49m\u001b[43m \u001b[49m\u001b[38;5;241;43m1000000\u001b[39;49m\u001b[43m,\u001b[49m\u001b[43m \u001b[49m\u001b[38;5;241;43m1000000\u001b[39;49m\u001b[43m,\u001b[49m\u001b[43m \u001b[49m\u001b[38;5;241;43m2\u001b[39;49m\u001b[43m,\u001b[49m\u001b[43m \u001b[49m\u001b[38;5;241;43m1000\u001b[39;49m\u001b[43m)\u001b[49m\n\u001b[1;32m      6\u001b[0m     mean \u001b[38;5;241m=\u001b[39m numpy\u001b[38;5;241m.\u001b[39mmean(res)\n\u001b[1;32m      7\u001b[0m     sd \u001b[38;5;241m=\u001b[39m numpy\u001b[38;5;241m.\u001b[39mstd(res)\n",
      "File \u001b[0;32m~/.local/lib/python3.11/site-packages/questa/simulator/_simulate.py:20\u001b[0m, in \u001b[0;36msimulate\u001b[0;34m(mode, s, warmup, n_iter, n, seed)\u001b[0m\n\u001b[1;32m      6\u001b[0m \u001b[38;5;250m\u001b[39m\u001b[38;5;124;03m\"\"\"_summary_\u001b[39;00m\n\u001b[1;32m      7\u001b[0m \n\u001b[1;32m      8\u001b[0m \u001b[38;5;124;03mArgs:\u001b[39;00m\n\u001b[0;32m   (...)\u001b[0m\n\u001b[1;32m     17\u001b[0m \u001b[38;5;124;03m    _type_: _description_\u001b[39;00m\n\u001b[1;32m     18\u001b[0m \u001b[38;5;124;03m\"\"\"\u001b[39;00m\n\u001b[1;32m     19\u001b[0m out \u001b[38;5;241m=\u001b[39m numpy\u001b[38;5;241m.\u001b[39mempty(n_iter, dtype\u001b[38;5;241m=\u001b[39mnumpy\u001b[38;5;241m.\u001b[39mint32)\n\u001b[0;32m---> 20\u001b[0m \u001b[43mquesta\u001b[49m\u001b[38;5;241;43m.\u001b[39;49m\u001b[43msimulator\u001b[49m\u001b[38;5;241;43m.\u001b[39;49m\u001b[43m_base\u001b[49m\u001b[38;5;241;43m.\u001b[39;49m\u001b[43msimulate\u001b[49m\u001b[43m(\u001b[49m\n\u001b[1;32m     21\u001b[0m \u001b[43m    \u001b[49m\u001b[43mmode\u001b[49m\u001b[43m,\u001b[49m\u001b[43m \u001b[49m\u001b[43ms\u001b[49m\u001b[43m,\u001b[49m\u001b[43m \u001b[49m\u001b[43mwarmup\u001b[49m\u001b[43m,\u001b[49m\u001b[43m \u001b[49m\u001b[43mn_iter\u001b[49m\u001b[43m,\u001b[49m\u001b[43m \u001b[49m\u001b[43mn\u001b[49m\u001b[43m,\u001b[49m\u001b[43m \u001b[49m\u001b[43mseed\u001b[49m\u001b[43m,\u001b[49m\u001b[43m \u001b[49m\u001b[43mout\u001b[49m\n\u001b[1;32m     22\u001b[0m \u001b[43m\u001b[49m\u001b[43m)\u001b[49m\n\u001b[1;32m     23\u001b[0m \u001b[38;5;28;01mreturn\u001b[39;00m out\n",
      "\u001b[0;31mKeyboardInterrupt\u001b[0m: "
     ]
    }
   ],
   "source": [
    "out = []\n",
    "for i in s:\n",
    "    print(i)\n",
    "    res =\\\n",
    "        questa.simulator.simulate(\"QUEUE_LENGTH\", i, 1000000, 1000000, 10, 1000)\n",
    "    mean = numpy.mean(res)\n",
    "    sd = numpy.std(res)\n",
    "    hl = scipy.stats.t.ppf(0.975, 1000000 - 1) * sd / math.sqrt(1000000)\n",
    "    out.append((i, numpy.mean(res), mean - hl, mean + hl))\n",
    "data = numpy.array(out)"
   ]
  },
  {
   "cell_type": "code",
   "execution_count": null,
   "metadata": {},
   "outputs": [],
   "source": [
    "matplotlib.pyplot.plot(data[:, 0], data[:, 1], label=\"mean\")\n",
    "matplotlib.pyplot.plot(data[:, 0], data[:, 2], label=\"95% CI LB\")\n",
    "matplotlib.pyplot.plot(data[:, 0], data[:, 3], label=\"95% CI UB\")\n",
    "matplotlib.pyplot.legend()"
   ]
  }
 ],
 "metadata": {
  "kernelspec": {
   "display_name": "Python 3",
   "language": "python",
   "name": "python3"
  },
  "language_info": {
   "codemirror_mode": {
    "name": "ipython",
    "version": 3
   },
   "file_extension": ".py",
   "mimetype": "text/x-python",
   "name": "python",
   "nbconvert_exporter": "python",
   "pygments_lexer": "ipython3",
   "version": "3.11.2"
  }
 },
 "nbformat": 4,
 "nbformat_minor": 2
}
