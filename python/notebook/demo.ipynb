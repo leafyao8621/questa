{
 "cells": [
  {
   "cell_type": "markdown",
   "metadata": {},
   "source": [
    "# QUESTA Simulation"
   ]
  },
  {
   "cell_type": "code",
   "execution_count": null,
   "metadata": {},
   "outputs": [],
   "source": [
    "import math\n",
    "\n",
    "import numpy\n",
    "import scipy.stats\n",
    "import matplotlib.pyplot\n",
    "\n",
    "import questa.simulator"
   ]
  },
  {
   "cell_type": "code",
   "execution_count": null,
   "metadata": {},
   "outputs": [],
   "source": [
    "s =\\\n",
    "    [\n",
    "        0.1, 0.2, 0.3, 0.4, 0.5, 0.6, 0.7, 0.8, 0.9, 0.91, 0.92,\n",
    "        0.93, 0.94, 0.95, 0.96, 0.961, 0.962, 0.963, 0.964, 0.965,\n",
    "        0.966, 0.967, 0.968, 0.969, 0.97, 0.971, 0.972, 0.973,\n",
    "        0.974, 0.975, 0.976, 0.977, 0.978, 0.979, 0.98, 0.981,\n",
    "        0.982, 0.983, 0.984, 0.985, 0.986, 0.987, 0.988, 0.989,\n",
    "        0.99, 0.991, 0.992, 0.993, 0.994, 0.995, 0.996, 0.997,\n",
    "        0.998, 0.999\n",
    "    ]"
   ]
  },
  {
   "cell_type": "markdown",
   "metadata": {},
   "source": [
    "## 2 $\\times$ 2 Queue Length 1M Warmup 1M Iters"
   ]
  },
  {
   "cell_type": "code",
   "execution_count": null,
   "metadata": {},
   "outputs": [],
   "source": [
    "out = []\n",
    "for i in s:\n",
    "    print(i)\n",
    "    res =\\\n",
    "        questa.simulator.simulate(\"MAX_WEIGHT\", i, 1000000, 1000000, 2, 1000)\n",
    "    mean = numpy.mean(res)\n",
    "    sd = numpy.std(res)\n",
    "    hl = scipy.stats.t.ppf(0.975, 1000000 - 1) * sd / math.sqrt(1000000)\n",
    "    out.append((i, numpy.mean(res), mean - hl, mean + hl))\n",
    "data_2_1m = numpy.array(out)"
   ]
  },
  {
   "cell_type": "code",
   "execution_count": null,
   "metadata": {},
   "outputs": [],
   "source": [
    "matplotlib.pyplot.plot(data_2_1m[:, 0], data_2_1m[:, 1], label=\"mean\")\n",
    "matplotlib.pyplot.plot(data_2_1m[:, 0], data_2_1m[:, 2], label=\"95% CI LB\")\n",
    "matplotlib.pyplot.plot(data_2_1m[:, 0], data_2_1m[:, 3], label=\"95% CI UB\")\n",
    "matplotlib.pyplot.legend()"
   ]
  },
  {
   "cell_type": "markdown",
   "metadata": {},
   "source": [
    "## 2 $\\times$ 2 Queue Length 10M Warmup 1M Iters"
   ]
  },
  {
   "cell_type": "code",
   "execution_count": null,
   "metadata": {},
   "outputs": [],
   "source": [
    "out = []\n",
    "for i in s:\n",
    "    print(i)\n",
    "    res =\\\n",
    "        questa.simulator.simulate(\"MAX_WEIGHT\", i, 1000000, 1000000, 2, 1000)\n",
    "    mean = numpy.mean(res)\n",
    "    sd = numpy.std(res)\n",
    "    hl = scipy.stats.t.ppf(0.975, 1000000 - 1) * sd / math.sqrt(1000000)\n",
    "    out.append((i, numpy.mean(res), mean - hl, mean + hl))\n",
    "data_2_10m = numpy.array(out)"
   ]
  },
  {
   "cell_type": "code",
   "execution_count": null,
   "metadata": {},
   "outputs": [],
   "source": [
    "matplotlib.pyplot.plot(data_2_10m[:, 0], data_2_10m[:, 1], label=\"mean\")\n",
    "matplotlib.pyplot.plot(data_2_10m[:, 0], data_2_10m[:, 2], label=\"95% CI LB\")\n",
    "matplotlib.pyplot.plot(data_2_10m[:, 0], data_2_10m[:, 3], label=\"95% CI UB\")\n",
    "matplotlib.pyplot.legend()"
   ]
  },
  {
   "cell_type": "markdown",
   "metadata": {},
   "source": [
    "## 10 $\\times$ 10 Queue Length 1M Warmup 1M Iters"
   ]
  },
  {
   "cell_type": "code",
   "execution_count": null,
   "metadata": {},
   "outputs": [],
   "source": [
    "out = []\n",
    "for i in s:\n",
    "    print(i)\n",
    "    res =\\\n",
    "        questa.simulator.simulate(\"MAX_WEIGHT\", i, 1000000, 1000000, 10, 1000)\n",
    "    mean = numpy.mean(res)\n",
    "    sd = numpy.std(res)\n",
    "    hl = scipy.stats.t.ppf(0.975, 1000000 - 1) * sd / math.sqrt(1000000)\n",
    "    out.append((i, numpy.mean(res), mean - hl, mean + hl))\n",
    "data_10_1m = numpy.array(out)"
   ]
  },
  {
   "cell_type": "code",
   "execution_count": null,
   "metadata": {},
   "outputs": [],
   "source": [
    "matplotlib.pyplot.plot(data_10_1m[:, 0], data_10_1m[:, 1], label=\"mean\")\n",
    "matplotlib.pyplot.plot(data_10_1m[:, 0], data_10_1m[:, 2], label=\"95% CI LB\")\n",
    "matplotlib.pyplot.plot(data_10_1m[:, 0], data_10_1m[:, 3], label=\"95% CI UB\")\n",
    "matplotlib.pyplot.legend()"
   ]
  },
  {
   "cell_type": "markdown",
   "metadata": {},
   "source": [
    "## 10 $\\times$ 10 Queue Length 10M Warmup 1M Iters"
   ]
  },
  {
   "cell_type": "code",
   "execution_count": null,
   "metadata": {},
   "outputs": [],
   "source": [
    "out = []\n",
    "for i in s:\n",
    "    print(i)\n",
    "    res =\\\n",
    "        questa.simulator.simulate(\"MAX_WEIGHT\", i, 1000000, 1000000, 10, 1000)\n",
    "    mean = numpy.mean(res)\n",
    "    sd = numpy.std(res)\n",
    "    hl = scipy.stats.t.ppf(0.975, 1000000 - 1) * sd / math.sqrt(1000000)\n",
    "    out.append((i, numpy.mean(res), mean - hl, mean + hl))\n",
    "data_10_10m = numpy.array(out)"
   ]
  },
  {
   "cell_type": "code",
   "execution_count": null,
   "metadata": {},
   "outputs": [],
   "source": [
    "matplotlib.pyplot.plot(data_10_10m[:, 0], data_10_10m[:, 1], label=\"mean\")\n",
    "matplotlib.pyplot.plot(data_10_10m[:, 0], data_10_10m[:, 2], label=\"95% CI LB\")\n",
    "matplotlib.pyplot.plot(data_10_10m[:, 0], data_10_10m[:, 3], label=\"95% CI UB\")\n",
    "matplotlib.pyplot.legend()"
   ]
  }
 ],
 "metadata": {
  "kernelspec": {
   "display_name": "Python 3 (ipykernel)",
   "language": "python",
   "name": "python3"
  },
  "language_info": {
   "codemirror_mode": {
    "name": "ipython",
    "version": 3
   },
   "file_extension": ".py",
   "mimetype": "text/x-python",
   "name": "python",
   "nbconvert_exporter": "python",
   "pygments_lexer": "ipython3",
   "version": "3.11.2"
  }
 },
 "nbformat": 4,
 "nbformat_minor": 4
}
