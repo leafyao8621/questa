{
 "cells": [
  {
   "cell_type": "markdown",
   "metadata": {},
   "source": [
    "# QUESTA Simulation"
   ]
  },
  {
   "cell_type": "code",
   "execution_count": 4,
   "metadata": {},
   "outputs": [],
   "source": [
    "import math\n",
    "\n",
    "import numpy\n",
    "import scipy.stats\n",
    "import matplotlib.pyplot\n",
    "\n",
    "import questa.runner"
   ]
  },
  {
   "cell_type": "code",
   "execution_count": 2,
   "metadata": {},
   "outputs": [],
   "source": [
    "s =\\\n",
    "    numpy.array([\n",
    "        0.1, 0.2, 0.3, 0.4, 0.5, 0.6, 0.7, 0.8, 0.9, 0.91, 0.92,\n",
    "        0.93, 0.94, 0.95, 0.96, 0.961, 0.962, 0.963, 0.964, 0.965,\n",
    "        0.966, 0.967, 0.968, 0.969, 0.97, 0.971, 0.972, 0.973,\n",
    "        0.974, 0.975, 0.976, 0.977, 0.978, 0.979, 0.98, 0.981,\n",
    "        0.982, 0.983, 0.984, 0.985, 0.986, 0.987, 0.988, 0.989,\n",
    "        0.99, 0.991, 0.992, 0.993, 0.994, 0.995, 0.996, 0.997,\n",
    "        0.998, 0.999\n",
    "    ])"
   ]
  },
  {
   "cell_type": "markdown",
   "metadata": {},
   "source": [
    "## 2 $\\times$ 2 Queue Length 1M Warmup 1M Iters 30 Repetitions"
   ]
  },
  {
   "cell_type": "markdown",
   "metadata": {},
   "source": [
    "### Max Weight"
   ]
  },
  {
   "cell_type": "code",
   "execution_count": 3,
   "metadata": {},
   "outputs": [
    {
     "name": "stderr",
     "output_type": "stream",
     "text": [
      "IOStream.flush timed out\n",
      "IOStream.flush timed out\n",
      "IOStream.flush timed out\n",
      "IOStream.flush timed out\n"
     ]
    },
    {
     "data": {
      "text/plain": [
       "array([[1.00000000e-01, 2.11090800e-01, 2.10942779e-01, 2.11238821e-01],\n",
       "       [2.00000000e-01, 4.49624500e-01, 4.49281084e-01, 4.49967916e-01],\n",
       "       [3.00000000e-01, 7.26406733e-01, 7.25975322e-01, 7.26838144e-01],\n",
       "       [4.00000000e-01, 1.05759627e+00, 1.05703840e+00, 1.05815414e+00],\n",
       "       [5.00000000e-01, 1.47157807e+00, 1.47092737e+00, 1.47222877e+00],\n",
       "       [6.00000000e-01, 2.02492890e+00, 2.02374490e+00, 2.02611290e+00],\n",
       "       [7.00000000e-01, 2.84406147e+00, 2.84210843e+00, 2.84601450e+00],\n",
       "       [8.00000000e-01, 4.30970013e+00, 4.30526417e+00, 4.31413610e+00],\n",
       "       [9.00000000e-01, 8.30114963e+00, 8.28491661e+00, 8.31738266e+00],\n",
       "       [9.10000000e-01, 9.15359193e+00, 9.13241383e+00, 9.17477004e+00],\n",
       "       [9.20000000e-01, 1.02194644e+01, 1.01926088e+01, 1.02463200e+01],\n",
       "       [9.30000000e-01, 1.15817769e+01, 1.15495796e+01, 1.16139742e+01],\n",
       "       [9.40000000e-01, 1.33872087e+01, 1.33424929e+01, 1.34319245e+01],\n",
       "       [9.50000000e-01, 1.59144751e+01, 1.58505571e+01, 1.59783931e+01],\n",
       "       [9.60000000e-01, 1.96884840e+01, 1.95838196e+01, 1.97931485e+01],\n",
       "       [9.61000000e-01, 2.01729087e+01, 2.00605297e+01, 2.02852878e+01],\n",
       "       [9.62000000e-01, 2.06801910e+01, 2.05630568e+01, 2.07973251e+01],\n",
       "       [9.63000000e-01, 2.12172060e+01, 2.10951120e+01, 2.13393001e+01],\n",
       "       [9.64000000e-01, 2.17785074e+01, 2.16469366e+01, 2.19100783e+01],\n",
       "       [9.65000000e-01, 2.23765137e+01, 2.22399368e+01, 2.25130905e+01],\n",
       "       [9.66000000e-01, 2.30161659e+01, 2.28722797e+01, 2.31600520e+01],\n",
       "       [9.67000000e-01, 2.36903624e+01, 2.35387503e+01, 2.38419746e+01],\n",
       "       [9.68000000e-01, 2.44061738e+01, 2.42409813e+01, 2.45713663e+01],\n",
       "       [9.69000000e-01, 2.51754726e+01, 2.50014164e+01, 2.53495288e+01],\n",
       "       [9.70000000e-01, 2.59944857e+01, 2.58126599e+01, 2.61763116e+01],\n",
       "       [9.71000000e-01, 2.68660181e+01, 2.66715683e+01, 2.70604679e+01],\n",
       "       [9.72000000e-01, 2.77990391e+01, 2.75925117e+01, 2.80055665e+01],\n",
       "       [9.73000000e-01, 2.88140651e+01, 2.85951310e+01, 2.90329992e+01],\n",
       "       [9.74000000e-01, 2.98983257e+01, 2.96612754e+01, 3.01353760e+01],\n",
       "       [9.75000000e-01, 3.10751947e+01, 3.08190423e+01, 3.13313470e+01],\n",
       "       [9.76000000e-01, 3.23349866e+01, 3.20514572e+01, 3.26185161e+01],\n",
       "       [9.77000000e-01, 3.37047091e+01, 3.33906042e+01, 3.40188140e+01],\n",
       "       [9.78000000e-01, 3.52156579e+01, 3.48727273e+01, 3.55585885e+01],\n",
       "       [9.79000000e-01, 3.68607757e+01, 3.64712599e+01, 3.72502916e+01],\n",
       "       [9.80000000e-01, 3.86557312e+01, 3.82245626e+01, 3.90868998e+01],\n",
       "       [9.81000000e-01, 4.06238774e+01, 4.01423158e+01, 4.11054390e+01],\n",
       "       [9.82000000e-01, 4.28065953e+01, 4.22675545e+01, 4.33456361e+01],\n",
       "       [9.83000000e-01, 4.52439251e+01, 4.46466004e+01, 4.58412497e+01],\n",
       "       [9.84000000e-01, 4.80201041e+01, 4.73420895e+01, 4.86981187e+01],\n",
       "       [9.85000000e-01, 5.11415814e+01, 5.03728337e+01, 5.19103291e+01],\n",
       "       [9.86000000e-01, 5.47449062e+01, 5.38667794e+01, 5.56230330e+01],\n",
       "       [9.87000000e-01, 5.87587474e+01, 5.77759304e+01, 5.97415645e+01],\n",
       "       [9.88000000e-01, 6.35730880e+01, 6.24208434e+01, 6.47253326e+01],\n",
       "       [9.89000000e-01, 6.92762985e+01, 6.78558037e+01, 7.06967934e+01],\n",
       "       [9.90000000e-01, 7.61264300e+01, 7.43326925e+01, 7.79201675e+01],\n",
       "       [9.91000000e-01, 8.43962179e+01, 8.21755992e+01, 8.66168365e+01],\n",
       "       [9.92000000e-01, 9.50385021e+01, 9.22052272e+01, 9.78717771e+01],\n",
       "       [9.93000000e-01, 1.08543601e+02, 1.04900550e+02, 1.12186652e+02],\n",
       "       [9.94000000e-01, 1.27060113e+02, 1.21972405e+02, 1.32147821e+02],\n",
       "       [9.95000000e-01, 1.53098862e+02, 1.45556635e+02, 1.60641088e+02],\n",
       "       [9.96000000e-01, 1.93647029e+02, 1.81468579e+02, 2.05825479e+02],\n",
       "       [9.97000000e-01, 2.59324536e+02, 2.37813907e+02, 2.80835165e+02],\n",
       "       [9.98000000e-01, 3.89155610e+02, 3.44702135e+02, 4.33609085e+02],\n",
       "       [9.99000000e-01, 7.43528036e+02, 6.25366109e+02, 8.61689963e+02]])"
      ]
     },
     "execution_count": 3,
     "metadata": {},
     "output_type": "execute_result"
    }
   ],
   "source": [
    "res =\\\n",
    "    questa.runner.run_rep(\n",
    "        \"MAX_WEIGHT\", s, 1000000, 1000000, 2, 1000, 32, 30\n",
    "    )\n",
    "res_mean = numpy.mean(res, axis=2)\n",
    "mean = numpy.mean(res_mean, axis=0)\n",
    "sd = numpy.std(res_mean, axis=0)\n",
    "hl = scipy.stats.t.ppf(0.975, 29) * sd / math.sqrt(30)\n",
    "data_2_1m_max_weight = numpy.vstack((s, mean, mean - hl, mean + hl)).T\n",
    "data_2_1m_max_weight"
   ]
  },
  {
   "cell_type": "markdown",
   "metadata": {},
   "source": [
    "### Max Size"
   ]
  },
  {
   "cell_type": "code",
   "execution_count": null,
   "metadata": {},
   "outputs": [
    {
     "ename": "KeyboardInterrupt",
     "evalue": "",
     "output_type": "error",
     "traceback": [
      "\u001b[0;31m---------------------------------------------------------------------------\u001b[0m",
      "\u001b[0;31mKeyboardInterrupt\u001b[0m                         Traceback (most recent call last)",
      "Cell \u001b[0;32mIn[4], line 2\u001b[0m\n\u001b[1;32m      1\u001b[0m res \u001b[38;5;241m=\u001b[39m\\\n\u001b[0;32m----> 2\u001b[0m     \u001b[43mquesta\u001b[49m\u001b[38;5;241;43m.\u001b[39;49m\u001b[43mrunner\u001b[49m\u001b[38;5;241;43m.\u001b[39;49m\u001b[43mrun_rep\u001b[49m\u001b[43m(\u001b[49m\n\u001b[1;32m      3\u001b[0m \u001b[43m        \u001b[49m\u001b[38;5;124;43m\"\u001b[39;49m\u001b[38;5;124;43mMAX_SIZE\u001b[39;49m\u001b[38;5;124;43m\"\u001b[39;49m\u001b[43m,\u001b[49m\u001b[43m \u001b[49m\u001b[43ms\u001b[49m\u001b[43m,\u001b[49m\u001b[43m \u001b[49m\u001b[38;5;241;43m1000000\u001b[39;49m\u001b[43m,\u001b[49m\u001b[43m \u001b[49m\u001b[38;5;241;43m1000000\u001b[39;49m\u001b[43m,\u001b[49m\u001b[43m \u001b[49m\u001b[38;5;241;43m2\u001b[39;49m\u001b[43m,\u001b[49m\u001b[43m \u001b[49m\u001b[38;5;241;43m1000\u001b[39;49m\u001b[43m,\u001b[49m\u001b[43m \u001b[49m\u001b[38;5;241;43m32\u001b[39;49m\u001b[43m,\u001b[49m\u001b[43m \u001b[49m\u001b[38;5;241;43m30\u001b[39;49m\n\u001b[1;32m      4\u001b[0m \u001b[43m    \u001b[49m\u001b[43m)\u001b[49m\n\u001b[1;32m      5\u001b[0m res_mean \u001b[38;5;241m=\u001b[39m numpy\u001b[38;5;241m.\u001b[39mmean(res, axis\u001b[38;5;241m=\u001b[39m\u001b[38;5;241m2\u001b[39m)\n\u001b[1;32m      6\u001b[0m mean \u001b[38;5;241m=\u001b[39m numpy\u001b[38;5;241m.\u001b[39mmean(res_mean, axis\u001b[38;5;241m=\u001b[39m\u001b[38;5;241m0\u001b[39m)\n",
      "File \u001b[0;32m~/.local/lib/python3.11/site-packages/questa/runner/_run.py:65\u001b[0m, in \u001b[0;36mrun_rep\u001b[0;34m(mode, s, warmup, n_iter, n, seed, n_thread, n_rep)\u001b[0m\n\u001b[1;32m     62\u001b[0m out \u001b[38;5;241m=\u001b[39m []\n\u001b[1;32m     63\u001b[0m \u001b[38;5;28;01mfor\u001b[39;00m i \u001b[38;5;129;01min\u001b[39;00m \u001b[38;5;28mrange\u001b[39m(n_rep):\n\u001b[1;32m     64\u001b[0m     out\u001b[38;5;241m.\u001b[39mappend(\n\u001b[0;32m---> 65\u001b[0m         \u001b[43mrun\u001b[49m\u001b[43m(\u001b[49m\n\u001b[1;32m     66\u001b[0m \u001b[43m            \u001b[49m\u001b[43mmode\u001b[49m\u001b[43m,\u001b[49m\n\u001b[1;32m     67\u001b[0m \u001b[43m            \u001b[49m\u001b[43ms\u001b[49m\u001b[43m,\u001b[49m\n\u001b[1;32m     68\u001b[0m \u001b[43m            \u001b[49m\u001b[43mwarmup\u001b[49m\u001b[43m,\u001b[49m\n\u001b[1;32m     69\u001b[0m \u001b[43m            \u001b[49m\u001b[43mn_iter\u001b[49m\u001b[43m,\u001b[49m\n\u001b[1;32m     70\u001b[0m \u001b[43m            \u001b[49m\u001b[43mn\u001b[49m\u001b[43m,\u001b[49m\n\u001b[1;32m     71\u001b[0m \u001b[43m            \u001b[49m\u001b[43mseed\u001b[49m\u001b[43m,\u001b[49m\n\u001b[1;32m     72\u001b[0m \u001b[43m            \u001b[49m\u001b[43mn_thread\u001b[49m\n\u001b[1;32m     73\u001b[0m \u001b[43m        \u001b[49m\u001b[43m)\u001b[49m\n\u001b[1;32m     74\u001b[0m     )\n\u001b[1;32m     75\u001b[0m     seed \u001b[38;5;241m+\u001b[39m\u001b[38;5;241m=\u001b[39m \u001b[38;5;241m1\u001b[39m\n\u001b[1;32m     76\u001b[0m \u001b[38;5;28;01mreturn\u001b[39;00m numpy\u001b[38;5;241m.\u001b[39marray(out)\n",
      "File \u001b[0;32m~/.local/lib/python3.11/site-packages/questa/runner/_run.py:28\u001b[0m, in \u001b[0;36mrun\u001b[0;34m(mode, s, warmup, n_iter, n, seed, n_thread)\u001b[0m\n\u001b[1;32m     13\u001b[0m \u001b[38;5;250m\u001b[39m\u001b[38;5;124;03m\"\"\"_summary_\u001b[39;00m\n\u001b[1;32m     14\u001b[0m \n\u001b[1;32m     15\u001b[0m \u001b[38;5;124;03mArgs:\u001b[39;00m\n\u001b[0;32m   (...)\u001b[0m\n\u001b[1;32m     25\u001b[0m \u001b[38;5;124;03m    _type_: _description_\u001b[39;00m\n\u001b[1;32m     26\u001b[0m \u001b[38;5;124;03m\"\"\"\u001b[39;00m\n\u001b[1;32m     27\u001b[0m out \u001b[38;5;241m=\u001b[39m numpy\u001b[38;5;241m.\u001b[39mempty((\u001b[38;5;28mlen\u001b[39m(s), n_iter), dtype\u001b[38;5;241m=\u001b[39mnumpy\u001b[38;5;241m.\u001b[39mint32)\n\u001b[0;32m---> 28\u001b[0m \u001b[43mquesta\u001b[49m\u001b[38;5;241;43m.\u001b[39;49m\u001b[43mrunner\u001b[49m\u001b[38;5;241;43m.\u001b[39;49m\u001b[43m_base\u001b[49m\u001b[38;5;241;43m.\u001b[39;49m\u001b[43mrun\u001b[49m\u001b[43m(\u001b[49m\n\u001b[1;32m     29\u001b[0m \u001b[43m    \u001b[49m\u001b[43mmode\u001b[49m\u001b[43m,\u001b[49m\n\u001b[1;32m     30\u001b[0m \u001b[43m    \u001b[49m\u001b[43ms\u001b[49m\u001b[43m,\u001b[49m\n\u001b[1;32m     31\u001b[0m \u001b[43m    \u001b[49m\u001b[38;5;28;43mlen\u001b[39;49m\u001b[43m(\u001b[49m\u001b[43ms\u001b[49m\u001b[43m)\u001b[49m\u001b[43m,\u001b[49m\n\u001b[1;32m     32\u001b[0m \u001b[43m    \u001b[49m\u001b[43mwarmup\u001b[49m\u001b[43m,\u001b[49m\n\u001b[1;32m     33\u001b[0m \u001b[43m    \u001b[49m\u001b[43mn_iter\u001b[49m\u001b[43m,\u001b[49m\n\u001b[1;32m     34\u001b[0m \u001b[43m    \u001b[49m\u001b[43mn\u001b[49m\u001b[43m,\u001b[49m\n\u001b[1;32m     35\u001b[0m \u001b[43m    \u001b[49m\u001b[43mseed\u001b[49m\u001b[43m,\u001b[49m\n\u001b[1;32m     36\u001b[0m \u001b[43m    \u001b[49m\u001b[43mn_thread\u001b[49m\u001b[43m,\u001b[49m\n\u001b[1;32m     37\u001b[0m \u001b[43m    \u001b[49m\u001b[43mout\u001b[49m\n\u001b[1;32m     38\u001b[0m \u001b[43m\u001b[49m\u001b[43m)\u001b[49m\n\u001b[1;32m     39\u001b[0m \u001b[38;5;28;01mreturn\u001b[39;00m out\n",
      "\u001b[0;31mKeyboardInterrupt\u001b[0m: "
     ]
    }
   ],
   "source": [
    "# res =\\\n",
    "#     questa.runner.run_rep(\n",
    "#         \"MAX_SIZE\", s, 1000000, 1000000, 2, 1000, 32, 30\n",
    "#     )\n",
    "# res_mean = numpy.mean(res, axis=2)\n",
    "# mean = numpy.mean(res_mean, axis=0)\n",
    "# sd = numpy.std(res_mean, axis=0)\n",
    "# hl = scipy.stats.t.ppf(0.975, 29) * sd / math.sqrt(30)\n",
    "# data_2_1m_max_size = numpy.vstack((s, mean, mean - hl, mean + hl)).T\n",
    "# data_2_1m_max_size"
   ]
  },
  {
   "cell_type": "markdown",
   "metadata": {},
   "source": [
    "### MSMW"
   ]
  },
  {
   "cell_type": "code",
   "execution_count": 4,
   "metadata": {},
   "outputs": [
    {
     "ename": "KeyboardInterrupt",
     "evalue": "",
     "output_type": "error",
     "traceback": [
      "\u001b[0;31m---------------------------------------------------------------------------\u001b[0m",
      "\u001b[0;31mKeyboardInterrupt\u001b[0m                         Traceback (most recent call last)",
      "Cell \u001b[0;32mIn[4], line 2\u001b[0m\n\u001b[1;32m      1\u001b[0m res \u001b[38;5;241m=\u001b[39m\\\n\u001b[0;32m----> 2\u001b[0m     \u001b[43mquesta\u001b[49m\u001b[38;5;241;43m.\u001b[39;49m\u001b[43mrunner\u001b[49m\u001b[38;5;241;43m.\u001b[39;49m\u001b[43mrun_rep\u001b[49m\u001b[43m(\u001b[49m\n\u001b[1;32m      3\u001b[0m \u001b[43m        \u001b[49m\u001b[38;5;124;43m\"\u001b[39;49m\u001b[38;5;124;43mMSMW\u001b[39;49m\u001b[38;5;124;43m\"\u001b[39;49m\u001b[43m,\u001b[49m\u001b[43m \u001b[49m\u001b[43ms\u001b[49m\u001b[43m,\u001b[49m\u001b[43m \u001b[49m\u001b[38;5;241;43m1000000\u001b[39;49m\u001b[43m,\u001b[49m\u001b[43m \u001b[49m\u001b[38;5;241;43m1000000\u001b[39;49m\u001b[43m,\u001b[49m\u001b[43m \u001b[49m\u001b[38;5;241;43m2\u001b[39;49m\u001b[43m,\u001b[49m\u001b[43m \u001b[49m\u001b[38;5;241;43m1000\u001b[39;49m\u001b[43m,\u001b[49m\u001b[43m \u001b[49m\u001b[38;5;241;43m32\u001b[39;49m\u001b[43m,\u001b[49m\u001b[43m \u001b[49m\u001b[38;5;241;43m30\u001b[39;49m\n\u001b[1;32m      4\u001b[0m \u001b[43m    \u001b[49m\u001b[43m)\u001b[49m\n\u001b[1;32m      5\u001b[0m res_mean \u001b[38;5;241m=\u001b[39m numpy\u001b[38;5;241m.\u001b[39mmean(res, axis\u001b[38;5;241m=\u001b[39m\u001b[38;5;241m2\u001b[39m)\n\u001b[1;32m      6\u001b[0m mean \u001b[38;5;241m=\u001b[39m numpy\u001b[38;5;241m.\u001b[39mmean(res_mean, axis\u001b[38;5;241m=\u001b[39m\u001b[38;5;241m0\u001b[39m)\n",
      "File \u001b[0;32m~/.local/lib/python3.11/site-packages/questa/runner/_run.py:65\u001b[0m, in \u001b[0;36mrun_rep\u001b[0;34m(mode, s, warmup, n_iter, n, seed, n_thread, n_rep)\u001b[0m\n\u001b[1;32m     62\u001b[0m out \u001b[38;5;241m=\u001b[39m []\n\u001b[1;32m     63\u001b[0m \u001b[38;5;28;01mfor\u001b[39;00m i \u001b[38;5;129;01min\u001b[39;00m \u001b[38;5;28mrange\u001b[39m(n_rep):\n\u001b[1;32m     64\u001b[0m     out\u001b[38;5;241m.\u001b[39mappend(\n\u001b[0;32m---> 65\u001b[0m         \u001b[43mrun\u001b[49m\u001b[43m(\u001b[49m\n\u001b[1;32m     66\u001b[0m \u001b[43m            \u001b[49m\u001b[43mmode\u001b[49m\u001b[43m,\u001b[49m\n\u001b[1;32m     67\u001b[0m \u001b[43m            \u001b[49m\u001b[43ms\u001b[49m\u001b[43m,\u001b[49m\n\u001b[1;32m     68\u001b[0m \u001b[43m            \u001b[49m\u001b[43mwarmup\u001b[49m\u001b[43m,\u001b[49m\n\u001b[1;32m     69\u001b[0m \u001b[43m            \u001b[49m\u001b[43mn_iter\u001b[49m\u001b[43m,\u001b[49m\n\u001b[1;32m     70\u001b[0m \u001b[43m            \u001b[49m\u001b[43mn\u001b[49m\u001b[43m,\u001b[49m\n\u001b[1;32m     71\u001b[0m \u001b[43m            \u001b[49m\u001b[43mseed\u001b[49m\u001b[43m,\u001b[49m\n\u001b[1;32m     72\u001b[0m \u001b[43m            \u001b[49m\u001b[43mn_thread\u001b[49m\n\u001b[1;32m     73\u001b[0m \u001b[43m        \u001b[49m\u001b[43m)\u001b[49m\n\u001b[1;32m     74\u001b[0m     )\n\u001b[1;32m     75\u001b[0m     seed \u001b[38;5;241m+\u001b[39m\u001b[38;5;241m=\u001b[39m \u001b[38;5;241m1\u001b[39m\n\u001b[1;32m     76\u001b[0m \u001b[38;5;28;01mreturn\u001b[39;00m numpy\u001b[38;5;241m.\u001b[39marray(out)\n",
      "File \u001b[0;32m~/.local/lib/python3.11/site-packages/questa/runner/_run.py:28\u001b[0m, in \u001b[0;36mrun\u001b[0;34m(mode, s, warmup, n_iter, n, seed, n_thread)\u001b[0m\n\u001b[1;32m     13\u001b[0m \u001b[38;5;250m\u001b[39m\u001b[38;5;124;03m\"\"\"_summary_\u001b[39;00m\n\u001b[1;32m     14\u001b[0m \n\u001b[1;32m     15\u001b[0m \u001b[38;5;124;03mArgs:\u001b[39;00m\n\u001b[0;32m   (...)\u001b[0m\n\u001b[1;32m     25\u001b[0m \u001b[38;5;124;03m    _type_: _description_\u001b[39;00m\n\u001b[1;32m     26\u001b[0m \u001b[38;5;124;03m\"\"\"\u001b[39;00m\n\u001b[1;32m     27\u001b[0m out \u001b[38;5;241m=\u001b[39m numpy\u001b[38;5;241m.\u001b[39mempty((\u001b[38;5;28mlen\u001b[39m(s), n_iter), dtype\u001b[38;5;241m=\u001b[39mnumpy\u001b[38;5;241m.\u001b[39mint32)\n\u001b[0;32m---> 28\u001b[0m \u001b[43mquesta\u001b[49m\u001b[38;5;241;43m.\u001b[39;49m\u001b[43mrunner\u001b[49m\u001b[38;5;241;43m.\u001b[39;49m\u001b[43m_base\u001b[49m\u001b[38;5;241;43m.\u001b[39;49m\u001b[43mrun\u001b[49m\u001b[43m(\u001b[49m\n\u001b[1;32m     29\u001b[0m \u001b[43m    \u001b[49m\u001b[43mmode\u001b[49m\u001b[43m,\u001b[49m\n\u001b[1;32m     30\u001b[0m \u001b[43m    \u001b[49m\u001b[43ms\u001b[49m\u001b[43m,\u001b[49m\n\u001b[1;32m     31\u001b[0m \u001b[43m    \u001b[49m\u001b[38;5;28;43mlen\u001b[39;49m\u001b[43m(\u001b[49m\u001b[43ms\u001b[49m\u001b[43m)\u001b[49m\u001b[43m,\u001b[49m\n\u001b[1;32m     32\u001b[0m \u001b[43m    \u001b[49m\u001b[43mwarmup\u001b[49m\u001b[43m,\u001b[49m\n\u001b[1;32m     33\u001b[0m \u001b[43m    \u001b[49m\u001b[43mn_iter\u001b[49m\u001b[43m,\u001b[49m\n\u001b[1;32m     34\u001b[0m \u001b[43m    \u001b[49m\u001b[43mn\u001b[49m\u001b[43m,\u001b[49m\n\u001b[1;32m     35\u001b[0m \u001b[43m    \u001b[49m\u001b[43mseed\u001b[49m\u001b[43m,\u001b[49m\n\u001b[1;32m     36\u001b[0m \u001b[43m    \u001b[49m\u001b[43mn_thread\u001b[49m\u001b[43m,\u001b[49m\n\u001b[1;32m     37\u001b[0m \u001b[43m    \u001b[49m\u001b[43mout\u001b[49m\n\u001b[1;32m     38\u001b[0m \u001b[43m\u001b[49m\u001b[43m)\u001b[49m\n\u001b[1;32m     39\u001b[0m \u001b[38;5;28;01mreturn\u001b[39;00m out\n",
      "\u001b[0;31mKeyboardInterrupt\u001b[0m: "
     ]
    }
   ],
   "source": [
    "res =\\\n",
    "    questa.runner.run_rep(\n",
    "        \"MSMW\", s, 1000000, 1000000, 2, 1000, 32, 30\n",
    "    )\n",
    "res_mean = numpy.mean(res, axis=2)\n",
    "mean = numpy.mean(res_mean, axis=0)\n",
    "sd = numpy.std(res_mean, axis=0)\n",
    "hl = scipy.stats.t.ppf(0.975, 29) * sd / math.sqrt(30)\n",
    "data_2_1m_msmw = numpy.vstack((s, mean, mean - hl, mean + hl)).T\n",
    "data_2_1m_msmw"
   ]
  },
  {
   "cell_type": "markdown",
   "metadata": {},
   "source": [
    "### MSMW Log"
   ]
  },
  {
   "cell_type": "code",
   "execution_count": null,
   "metadata": {},
   "outputs": [],
   "source": [
    "res =\\\n",
    "    questa.runner.run_rep(\n",
    "        \"MSMW_LOG\", s, 1000000, 1000000, 2, 1000, 32, 30\n",
    "    )\n",
    "res_mean = numpy.mean(res, axis=2)\n",
    "mean = numpy.mean(res_mean, axis=0)\n",
    "sd = numpy.std(res_mean, axis=0)\n",
    "hl = scipy.stats.t.ppf(0.975, 29) * sd / math.sqrt(30)\n",
    "data_2_1m_msmw_log = numpy.vstack((s, mean, mean - hl, mean + hl)).T\n",
    "data_2_1m_msmw_log"
   ]
  },
  {
   "cell_type": "code",
   "execution_count": 3,
   "metadata": {},
   "outputs": [],
   "source": [
    "data_2_1m_max_weight =\\\n",
    "    numpy.array([[1.00000000e-01, 2.11090800e-01, 2.10942779e-01, 2.11238821e-01],\n",
    "       [2.00000000e-01, 4.49624500e-01, 4.49281084e-01, 4.49967916e-01],\n",
    "       [3.00000000e-01, 7.26406733e-01, 7.25975322e-01, 7.26838144e-01],\n",
    "       [4.00000000e-01, 1.05759627e+00, 1.05703840e+00, 1.05815414e+00],\n",
    "       [5.00000000e-01, 1.47157807e+00, 1.47092737e+00, 1.47222877e+00],\n",
    "       [6.00000000e-01, 2.02492890e+00, 2.02374490e+00, 2.02611290e+00],\n",
    "       [7.00000000e-01, 2.84406147e+00, 2.84210843e+00, 2.84601450e+00],\n",
    "       [8.00000000e-01, 4.30970013e+00, 4.30526417e+00, 4.31413610e+00],\n",
    "       [9.00000000e-01, 8.30114963e+00, 8.28491661e+00, 8.31738266e+00],\n",
    "       [9.10000000e-01, 9.15359193e+00, 9.13241383e+00, 9.17477004e+00],\n",
    "       [9.20000000e-01, 1.02194644e+01, 1.01926088e+01, 1.02463200e+01],\n",
    "       [9.30000000e-01, 1.15817769e+01, 1.15495796e+01, 1.16139742e+01],\n",
    "       [9.40000000e-01, 1.33872087e+01, 1.33424929e+01, 1.34319245e+01],\n",
    "       [9.50000000e-01, 1.59144751e+01, 1.58505571e+01, 1.59783931e+01],\n",
    "       [9.60000000e-01, 1.96884840e+01, 1.95838196e+01, 1.97931485e+01],\n",
    "       [9.61000000e-01, 2.01729087e+01, 2.00605297e+01, 2.02852878e+01],\n",
    "       [9.62000000e-01, 2.06801910e+01, 2.05630568e+01, 2.07973251e+01],\n",
    "       [9.63000000e-01, 2.12172060e+01, 2.10951120e+01, 2.13393001e+01],\n",
    "       [9.64000000e-01, 2.17785074e+01, 2.16469366e+01, 2.19100783e+01],\n",
    "       [9.65000000e-01, 2.23765137e+01, 2.22399368e+01, 2.25130905e+01],\n",
    "       [9.66000000e-01, 2.30161659e+01, 2.28722797e+01, 2.31600520e+01],\n",
    "       [9.67000000e-01, 2.36903624e+01, 2.35387503e+01, 2.38419746e+01],\n",
    "       [9.68000000e-01, 2.44061738e+01, 2.42409813e+01, 2.45713663e+01],\n",
    "       [9.69000000e-01, 2.51754726e+01, 2.50014164e+01, 2.53495288e+01],\n",
    "       [9.70000000e-01, 2.59944857e+01, 2.58126599e+01, 2.61763116e+01],\n",
    "       [9.71000000e-01, 2.68660181e+01, 2.66715683e+01, 2.70604679e+01],\n",
    "       [9.72000000e-01, 2.77990391e+01, 2.75925117e+01, 2.80055665e+01],\n",
    "       [9.73000000e-01, 2.88140651e+01, 2.85951310e+01, 2.90329992e+01],\n",
    "       [9.74000000e-01, 2.98983257e+01, 2.96612754e+01, 3.01353760e+01],\n",
    "       [9.75000000e-01, 3.10751947e+01, 3.08190423e+01, 3.13313470e+01],\n",
    "       [9.76000000e-01, 3.23349866e+01, 3.20514572e+01, 3.26185161e+01],\n",
    "       [9.77000000e-01, 3.37047091e+01, 3.33906042e+01, 3.40188140e+01],\n",
    "       [9.78000000e-01, 3.52156579e+01, 3.48727273e+01, 3.55585885e+01],\n",
    "       [9.79000000e-01, 3.68607757e+01, 3.64712599e+01, 3.72502916e+01],\n",
    "       [9.80000000e-01, 3.86557312e+01, 3.82245626e+01, 3.90868998e+01],\n",
    "       [9.81000000e-01, 4.06238774e+01, 4.01423158e+01, 4.11054390e+01],\n",
    "       [9.82000000e-01, 4.28065953e+01, 4.22675545e+01, 4.33456361e+01],\n",
    "       [9.83000000e-01, 4.52439251e+01, 4.46466004e+01, 4.58412497e+01],\n",
    "       [9.84000000e-01, 4.80201041e+01, 4.73420895e+01, 4.86981187e+01],\n",
    "       [9.85000000e-01, 5.11415814e+01, 5.03728337e+01, 5.19103291e+01],\n",
    "       [9.86000000e-01, 5.47449062e+01, 5.38667794e+01, 5.56230330e+01],\n",
    "       [9.87000000e-01, 5.87587474e+01, 5.77759304e+01, 5.97415645e+01],\n",
    "       [9.88000000e-01, 6.35730880e+01, 6.24208434e+01, 6.47253326e+01],\n",
    "       [9.89000000e-01, 6.92762985e+01, 6.78558037e+01, 7.06967934e+01],\n",
    "       [9.90000000e-01, 7.61264300e+01, 7.43326925e+01, 7.79201675e+01],\n",
    "       [9.91000000e-01, 8.43962179e+01, 8.21755992e+01, 8.66168365e+01],\n",
    "       [9.92000000e-01, 9.50385021e+01, 9.22052272e+01, 9.78717771e+01],\n",
    "       [9.93000000e-01, 1.08543601e+02, 1.04900550e+02, 1.12186652e+02],\n",
    "       [9.94000000e-01, 1.27060113e+02, 1.21972405e+02, 1.32147821e+02],\n",
    "       [9.95000000e-01, 1.53098862e+02, 1.45556635e+02, 1.60641088e+02],\n",
    "       [9.96000000e-01, 1.93647029e+02, 1.81468579e+02, 2.05825479e+02],\n",
    "       [9.97000000e-01, 2.59324536e+02, 2.37813907e+02, 2.80835165e+02],\n",
    "       [9.98000000e-01, 3.89155610e+02, 3.44702135e+02, 4.33609085e+02],\n",
    "       [9.99000000e-01, 7.43528036e+02, 6.25366109e+02, 8.61689963e+02]])"
   ]
  },
  {
   "cell_type": "code",
   "execution_count": 5,
   "metadata": {},
   "outputs": [],
   "source": [
    "data_2_1m_msmw =\\\n",
    "    numpy.array([[1.00000000e-01, 2.11089200e-01, 2.10941255e-01, 2.11237145e-01],\n",
    "       [2.00000000e-01, 4.49548700e-01, 4.49205771e-01, 4.49891629e-01],\n",
    "       [3.00000000e-01, 7.25655867e-01, 7.25230083e-01, 7.26081651e-01],\n",
    "       [4.00000000e-01, 1.05359327e+00, 1.05305266e+00, 1.05413387e+00],\n",
    "       [5.00000000e-01, 1.45618943e+00, 1.45557116e+00, 1.45680770e+00],\n",
    "       [6.00000000e-01, 1.97721117e+00, 1.97612963e+00, 1.97829270e+00],\n",
    "       [7.00000000e-01, 2.71512017e+00, 2.71336273e+00, 2.71687760e+00],\n",
    "       [8.00000000e-01, 3.97953717e+00, 3.97565870e+00, 3.98341563e+00],\n",
    "       [9.00000000e-01, 7.36158653e+00, 7.34787781e+00, 7.37529525e+00],\n",
    "       [9.10000000e-01, 8.08514483e+00, 8.06689752e+00, 8.10339214e+00],\n",
    "       [9.20000000e-01, 8.98909257e+00, 8.96612536e+00, 9.01205978e+00],\n",
    "       [9.30000000e-01, 1.01468431e+01, 1.01192536e+01, 1.01744326e+01],\n",
    "       [9.40000000e-01, 1.16886547e+01, 1.16488826e+01, 1.17284268e+01],\n",
    "       [9.50000000e-01, 1.38462549e+01, 1.37885190e+01, 1.39039909e+01],\n",
    "       [9.60000000e-01, 1.70759107e+01, 1.69813666e+01, 1.71704548e+01],\n",
    "       [9.61000000e-01, 1.74869879e+01, 1.73876165e+01, 1.75863593e+01],\n",
    "       [9.62000000e-01, 1.79218659e+01, 1.78167012e+01, 1.80270306e+01],\n",
    "       [9.63000000e-01, 1.83818166e+01, 1.82717379e+01, 1.84918954e+01],\n",
    "       [9.64000000e-01, 1.88584835e+01, 1.87405576e+01, 1.89764094e+01],\n",
    "       [9.65000000e-01, 1.93745020e+01, 1.92517277e+01, 1.94972762e+01],\n",
    "       [9.66000000e-01, 1.99243900e+01, 1.97952548e+01, 2.00535252e+01],\n",
    "       [9.67000000e-01, 2.05021932e+01, 2.03663835e+01, 2.06380029e+01],\n",
    "       [9.68000000e-01, 2.11196765e+01, 2.09723321e+01, 2.12670209e+01],\n",
    "       [9.69000000e-01, 2.17801578e+01, 2.16249804e+01, 2.19353353e+01],\n",
    "       [9.70000000e-01, 2.24737008e+01, 2.23110485e+01, 2.26363531e+01],\n",
    "       [9.71000000e-01, 2.32236381e+01, 2.30502199e+01, 2.33970564e+01],\n",
    "       [9.72000000e-01, 2.40243533e+01, 2.38400744e+01, 2.42086323e+01],\n",
    "       [9.73000000e-01, 2.48927464e+01, 2.46983690e+01, 2.50871238e+01],\n",
    "       [9.74000000e-01, 2.58145607e+01, 2.56033311e+01, 2.60257904e+01],\n",
    "       [9.75000000e-01, 2.68227963e+01, 2.65964430e+01, 2.70491496e+01],\n",
    "       [9.76000000e-01, 2.79000926e+01, 2.76476794e+01, 2.81525059e+01],\n",
    "       [9.77000000e-01, 2.90772814e+01, 2.87975030e+01, 2.93570598e+01],\n",
    "       [9.78000000e-01, 3.03736757e+01, 3.00634219e+01, 3.06839295e+01],\n",
    "       [9.79000000e-01, 3.17763840e+01, 3.14251129e+01, 3.21276551e+01],\n",
    "       [9.80000000e-01, 3.33083114e+01, 3.29196168e+01, 3.36970060e+01],\n",
    "       [9.81000000e-01, 3.49919731e+01, 3.45606383e+01, 3.54233078e+01],\n",
    "       [9.82000000e-01, 3.68710494e+01, 3.63913009e+01, 3.73507980e+01],\n",
    "       [9.83000000e-01, 3.89421446e+01, 3.84088401e+01, 3.94754490e+01],\n",
    "       [9.84000000e-01, 4.13171077e+01, 4.07168057e+01, 4.19174098e+01],\n",
    "       [9.85000000e-01, 4.39763960e+01, 4.32960922e+01, 4.46566999e+01],\n",
    "       [9.86000000e-01, 4.70693405e+01, 4.62916330e+01, 4.78470481e+01],\n",
    "       [9.87000000e-01, 5.05124631e+01, 4.96391610e+01, 5.13857651e+01],\n",
    "       [9.88000000e-01, 5.46357386e+01, 5.36130285e+01, 5.56584486e+01],\n",
    "       [9.89000000e-01, 5.95405701e+01, 5.82712429e+01, 6.08098972e+01],\n",
    "       [9.90000000e-01, 6.53759227e+01, 6.37882951e+01, 6.69635503e+01],\n",
    "       [9.91000000e-01, 7.25385492e+01, 7.05878727e+01, 7.44892257e+01],\n",
    "       [9.92000000e-01, 8.17879190e+01, 7.93064917e+01, 8.42693464e+01],\n",
    "       [9.93000000e-01, 9.34033956e+01, 9.01898661e+01, 9.66169250e+01],\n",
    "       [9.94000000e-01, 1.09459259e+02, 1.04972175e+02, 1.13946343e+02],\n",
    "       [9.95000000e-01, 1.31915945e+02, 1.25240379e+02, 1.38591511e+02],\n",
    "       [9.96000000e-01, 1.66941514e+02, 1.55938309e+02, 1.77944718e+02],\n",
    "       [9.97000000e-01, 2.22263747e+02, 2.03207885e+02, 2.41319608e+02],\n",
    "       [9.98000000e-01, 3.33570927e+02, 2.95234851e+02, 3.71907003e+02],\n",
    "       [9.99000000e-01, 6.44574618e+02, 5.41576817e+02, 7.47572419e+02]])"
   ]
  },
  {
   "cell_type": "code",
   "execution_count": 6,
   "metadata": {},
   "outputs": [],
   "source": [
    "data_2_1m_msmw_log =\\\n",
    "    numpy.array([[1.00000000e-01, 1.54075037e+00, 1.54011283e+00, 1.54138791e+00],\n",
    "       [2.00000000e-01, 1.76566900e+00, 1.76521802e+00, 1.76611998e+00],\n",
    "       [3.00000000e-01, 2.01582633e+00, 2.01543669e+00, 2.01621598e+00],\n",
    "       [4.00000000e-01, 2.30176983e+00, 2.30128596e+00, 2.30225370e+00],\n",
    "       [5.00000000e-01, 2.64384243e+00, 2.64329052e+00, 2.64439435e+00],\n",
    "       [6.00000000e-01, 3.08294477e+00, 3.08211645e+00, 3.08377309e+00],\n",
    "       [7.00000000e-01, 3.71142360e+00, 3.70983916e+00, 3.71300804e+00],\n",
    "       [8.00000000e-01, 4.81788750e+00, 4.81463541e+00, 4.82113959e+00],\n",
    "       [9.00000000e-01, 7.91841730e+00, 7.90556345e+00, 7.93127115e+00],\n",
    "       [9.10000000e-01, 8.59948410e+00, 8.58230872e+00, 8.61665948e+00],\n",
    "       [9.20000000e-01, 9.45991433e+00, 9.43769764e+00, 9.48213103e+00],\n",
    "       [9.30000000e-01, 1.05704222e+01, 1.05434240e+01, 1.05974204e+01],\n",
    "       [9.40000000e-01, 1.20561004e+01, 1.20178165e+01, 1.20943843e+01],\n",
    "       [9.50000000e-01, 1.41609153e+01, 1.41044821e+01, 1.42173485e+01],\n",
    "       [9.60000000e-01, 1.73236257e+01, 1.72303910e+01, 1.74168603e+01],\n",
    "       [9.61000000e-01, 1.77308695e+01, 1.76326625e+01, 1.78290766e+01],\n",
    "       [9.62000000e-01, 1.81576715e+01, 1.80540185e+01, 1.82613244e+01],\n",
    "       [9.63000000e-01, 1.86102856e+01, 1.85010485e+01, 1.87195227e+01],\n",
    "       [9.64000000e-01, 1.90815349e+01, 1.89641203e+01, 1.91989495e+01],\n",
    "       [9.65000000e-01, 1.95881686e+01, 1.94656043e+01, 1.97107330e+01],\n",
    "       [9.66000000e-01, 2.01307068e+01, 2.00020081e+01, 2.02594054e+01],\n",
    "       [9.67000000e-01, 2.07024509e+01, 2.05670817e+01, 2.08378201e+01],\n",
    "       [9.68000000e-01, 2.13123255e+01, 2.11662935e+01, 2.14583576e+01],\n",
    "       [9.69000000e-01, 2.19673953e+01, 2.18133360e+01, 2.21214545e+01],\n",
    "       [9.70000000e-01, 2.26565844e+01, 2.24952336e+01, 2.28179353e+01],\n",
    "       [9.71000000e-01, 2.33972574e+01, 2.32256226e+01, 2.35688922e+01],\n",
    "       [9.72000000e-01, 2.41913926e+01, 2.40085832e+01, 2.43742020e+01],\n",
    "       [9.73000000e-01, 2.50520785e+01, 2.48575415e+01, 2.52466155e+01],\n",
    "       [9.74000000e-01, 2.59692186e+01, 2.57583863e+01, 2.61800509e+01],\n",
    "       [9.75000000e-01, 2.69704694e+01, 2.67445185e+01, 2.71964204e+01],\n",
    "       [9.76000000e-01, 2.80394145e+01, 2.77877033e+01, 2.82911256e+01],\n",
    "       [9.77000000e-01, 2.92093985e+01, 2.89315294e+01, 2.94872675e+01],\n",
    "       [9.78000000e-01, 3.04977414e+01, 3.01874352e+01, 3.08080475e+01],\n",
    "       [9.79000000e-01, 3.18913880e+01, 3.15399502e+01, 3.22428259e+01],\n",
    "       [9.80000000e-01, 3.34156562e+01, 3.30275740e+01, 3.38037384e+01],\n",
    "       [9.81000000e-01, 3.50921171e+01, 3.46625032e+01, 3.55217309e+01],\n",
    "       [9.82000000e-01, 3.69672758e+01, 3.64884534e+01, 3.74460982e+01],\n",
    "       [9.83000000e-01, 3.90340286e+01, 3.85027227e+01, 3.95653345e+01],\n",
    "       [9.84000000e-01, 4.13963548e+01, 4.07968663e+01, 4.19958433e+01],\n",
    "       [9.85000000e-01, 4.40550508e+01, 4.33751076e+01, 4.47349941e+01],\n",
    "       [9.86000000e-01, 4.71363451e+01, 4.63597351e+01, 4.79129552e+01],\n",
    "       [9.87000000e-01, 5.05754110e+01, 4.97031141e+01, 5.14477080e+01],\n",
    "       [9.88000000e-01, 5.46914304e+01, 5.36704811e+01, 5.57123797e+01],\n",
    "       [9.89000000e-01, 5.95872976e+01, 5.83193066e+01, 6.08552886e+01],\n",
    "       [9.90000000e-01, 6.54184814e+01, 6.38313363e+01, 6.70056266e+01],\n",
    "       [9.91000000e-01, 7.25680172e+01, 7.06214883e+01, 7.45145461e+01],\n",
    "       [9.92000000e-01, 8.18193596e+01, 7.93395216e+01, 8.42991976e+01],\n",
    "       [9.93000000e-01, 9.34248727e+01, 9.02128767e+01, 9.66368686e+01],\n",
    "       [9.94000000e-01, 1.09472765e+02, 1.04987385e+02, 1.13958145e+02],\n",
    "       [9.95000000e-01, 1.31926333e+02, 1.25252264e+02, 1.38600402e+02],\n",
    "       [9.96000000e-01, 1.66952763e+02, 1.55948962e+02, 1.77956564e+02],\n",
    "       [9.97000000e-01, 2.22266191e+02, 2.03211810e+02, 2.41320573e+02],\n",
    "       [9.98000000e-01, 3.33572902e+02, 2.95237123e+02, 3.71908681e+02],\n",
    "       [9.99000000e-01, 6.44574994e+02, 5.41577350e+02, 7.47572638e+02]])"
   ]
  },
  {
   "cell_type": "markdown",
   "metadata": {},
   "source": [
    "### Plots"
   ]
  },
  {
   "cell_type": "code",
   "execution_count": 11,
   "metadata": {},
   "outputs": [
    {
     "data": {
      "text/plain": [
       "<matplotlib.legend.Legend at 0x7f527b34ba50>"
      ]
     },
     "execution_count": 11,
     "metadata": {},
     "output_type": "execute_result"
    },
    {
     "data": {
      "image/png": "[encoded data removed]",
      "text/plain": [
       "<Figure size 640x480 with 1 Axes>"
      ]
     },
     "metadata": {},
     "output_type": "display_data"
    }
   ],
   "source": [
    "matplotlib.pyplot.plot(\n",
    "    data_2_1m_max_weight[0:30, 0],\n",
    "    data_2_1m_max_weight[0:30, 1],\n",
    "    label=\"Max Weight\"\n",
    ")\n",
    "# matplotlib.pyplot.plot(\n",
    "#     data_2_1m_max_weight[9:20, 0],\n",
    "#     data_2_1m_max_weight[9:20, 2],\n",
    "#     linestyle='--',\n",
    "#     label=\"Max Weight 95% CI LB\"\n",
    "# )\n",
    "# matplotlib.pyplot.plot(\n",
    "#     data_2_1m_max_weight[9:20, 0],\n",
    "#     data_2_1m_max_weight[9:20, 3],\n",
    "#     linestyle='--',\n",
    "#     label=\"Max Weight 95% CI UB\"\n",
    "# )\n",
    "matplotlib.pyplot.plot(\n",
    "    data_2_1m_msmw[0:30, 0],\n",
    "    data_2_1m_msmw[0:30, 1],\n",
    "    label=\"MSMW\"\n",
    ")\n",
    "# matplotlib.pyplot.plot(\n",
    "#     data_2_1m_msmw[9:20, 0],\n",
    "#     data_2_1m_msmw[9:20, 2],\n",
    "#     linestyle='--',\n",
    "#     label=\"MSMW 95% CI LB\"\n",
    "# )\n",
    "# matplotlib.pyplot.plot(\n",
    "#     data_2_1m_msmw[9:20, 0],\n",
    "#     data_2_1m_msmw[9:20, 3],\n",
    "#     linestyle='--',\n",
    "#     label=\"MSMW 95% CI UB\"\n",
    "# )\n",
    "matplotlib.pyplot.plot(\n",
    "    data_2_1m_msmw_log[0:30, 0],\n",
    "    data_2_1m_msmw_log[0:30, 1],\n",
    "    label=\"MSMW Log\"\n",
    ")\n",
    "# matplotlib.pyplot.plot(\n",
    "#     data_2_1m_msmw_log[9:20, 0],\n",
    "#     data_2_1m_msmw_log[9:20, 2],\n",
    "#     linestyle='--',\n",
    "#     label=\"MSMW Log 95% CI LB\"\n",
    "# )\n",
    "# matplotlib.pyplot.plot(\n",
    "#     data_2_1m_msmw_log[9:20, 0],\n",
    "#     data_2_1m_msmw_log[9:20, 3],\n",
    "#     linestyle='--',\n",
    "#     label=\"MSMW Log 95% CI UB\"\n",
    "# )\n",
    "matplotlib.pyplot.plot(\n",
    "    data_2_1m_max_weight[0:30, 0],\n",
    "    data_2_1m_max_weight[0:30, 0] ** 2 /\\\n",
    "        (2 * (1 - data_2_1m_max_weight[0:30, 0])),\n",
    "    linestyle='--',\n",
    "    label=\"Universal Lower Bound\"\n",
    ")\n",
    "matplotlib.pyplot.title(r\"$E\\left[\\sum_{i, j}{Q_{i, j}}\\right] \\sim \\rho$\")\n",
    "matplotlib.pyplot.xlabel(r\"$\\rho$\")\n",
    "matplotlib.pyplot.ylabel(r\"$E\\left[\\sum_{i, j}{Q_{i, j}}\\right]$\")\n",
    "matplotlib.pyplot.legend()"
   ]
  },
  {
   "cell_type": "code",
   "execution_count": 12,
   "metadata": {},
   "outputs": [
    {
     "data": {
      "text/plain": [
       "<matplotlib.legend.Legend at 0x7f527b350ed0>"
      ]
     },
     "execution_count": 12,
     "metadata": {},
     "output_type": "execute_result"
    },
    {
     "data": {
      "image/png": "[encoded data removed]",
      "text/plain": [
       "<Figure size 640x480 with 1 Axes>"
      ]
     },
     "metadata": {},
     "output_type": "display_data"
    }
   ],
   "source": [
    "matplotlib.pyplot.plot(\n",
    "    data_2_1m_max_weight[:, 0],\n",
    "    (1 - data_2_1m_max_weight[:, 0]) * data_2_1m_max_weight[:, 1],\n",
    "    label=\"Max Weight\"\n",
    ")\n",
    "# matplotlib.pyplot.plot(\n",
    "#     data_2_1m_max_weight[:, 0],\n",
    "#     (1 - data_2_1m_max_weight[:, 0]) * data_2_1m_max_weight[:, 2],\n",
    "#     linestyle='--',\n",
    "#     label=\"Max Weight 95% CI LB\"\n",
    "# )\n",
    "# matplotlib.pyplot.plot(\n",
    "#     data_2_1m_max_weight[:, 0],\n",
    "#     (1 - data_2_1m_max_weight[:, 0]) * data_2_1m_max_weight[:, 3],\n",
    "#     linestyle='--',\n",
    "#     label=\"Max Weight 95% CI UB\"\n",
    "# )\n",
    "matplotlib.pyplot.plot(\n",
    "    data_2_1m_msmw[:, 0],\n",
    "    (1 - data_2_1m_msmw[:, 0]) * data_2_1m_msmw[:, 1],\n",
    "    label=\"MSMW\"\n",
    ")\n",
    "# matplotlib.pyplot.plot(\n",
    "#     data_2_1m_msmw[:, 0],\n",
    "#     (1 - data_2_1m_msmw[:, 0]) * data_2_1m_msmw[:, 2],\n",
    "#     linestyle='--',\n",
    "#     label=\"MSMW 95% CI LB\"\n",
    "# )\n",
    "# matplotlib.pyplot.plot(\n",
    "#     data_2_1m_msmw[:, 0],\n",
    "#     (1 - data_2_1m_msmw[:, 0]) * data_2_1m_msmw[:, 3],\n",
    "#     linestyle='--',\n",
    "#     label=\"MSMW 95% CI UB\"\n",
    "# )\n",
    "matplotlib.pyplot.plot(\n",
    "    data_2_1m_msmw_log[:, 0],\n",
    "    (1 - data_2_1m_msmw_log[:, 0]) * data_2_1m_msmw_log[:, 1],\n",
    "    label=\"MSMW Log\"\n",
    ")\n",
    "# matplotlib.pyplot.plot(\n",
    "#     data_2_1m_msmw_log[:, 0],\n",
    "#     (1 - data_2_1m_msmw_log[:, 0]) * data_2_1m_msmw_log[:, 2],\n",
    "#     linestyle='--',\n",
    "#     label=\"MSMW Log 95% CI LB\"\n",
    "# )\n",
    "# matplotlib.pyplot.plot(\n",
    "#     data_2_1m_msmw_log[:, 0],\n",
    "#     (1 - data_2_1m_msmw_log[:, 0]) * data_2_1m_msmw_log[:, 3],\n",
    "#     linestyle='--',\n",
    "#     label=\"MSMW Log 95% CI UB\"\n",
    "# )\n",
    "matplotlib.pyplot.plot(\n",
    "    data_2_1m_max_weight[:, 0],\n",
    "    data_2_1m_max_weight[:, 0] ** 2 / 2,\n",
    "    linestyle='--',\n",
    "    label=\"Universal Lower Bound\"\n",
    ")\n",
    "matplotlib.pyplot.title(\n",
    "    r\"$(1 - \\rho)E\\left[\\sum_{i, j}{Q_{i, j}}\\right] \\sim \\rho$\")\n",
    "matplotlib.pyplot.xlabel(r\"$\\rho$\")\n",
    "matplotlib.pyplot.ylabel(r\"$(1 - \\rho)E\\left[\\sum_{i, j}{Q_{i, j}}\\right]$\")\n",
    "matplotlib.pyplot.legend()"
   ]
  },
  {
   "cell_type": "markdown",
   "metadata": {},
   "source": [
    "## 2 $\\times$ 2 Queue Length 10M Warmup 1M Iters 30 Repetitions"
   ]
  },
  {
   "cell_type": "markdown",
   "metadata": {},
   "source": [
    "### Max Weight"
   ]
  },
  {
   "cell_type": "code",
   "execution_count": null,
   "metadata": {},
   "outputs": [],
   "source": [
    "res =\\\n",
    "    questa.runner.run_rep(\n",
    "        \"MAX_WEIGHT\", s, 10000000, 1000000, 2, 1000, 32, 30\n",
    "    )\n",
    "res_mean = numpy.mean(res, axis=2)\n",
    "mean = numpy.mean(res_mean, axis=0)\n",
    "sd = numpy.std(res_mean, axis=0)\n",
    "hl = scipy.stats.t.ppf(0.975, 29) * sd / math.sqrt(30)\n",
    "data_2_10m_max_weight = numpy.vstack((s, mean, mean - hl, mean + hl)).T\n",
    "data_2_10m_max_weight"
   ]
  },
  {
   "cell_type": "markdown",
   "metadata": {},
   "source": [
    "### Max Size"
   ]
  },
  {
   "cell_type": "code",
   "execution_count": null,
   "metadata": {},
   "outputs": [],
   "source": [
    "# res =\\\n",
    "#     questa.runner.run_rep(\n",
    "#         \"MAX_SIZE\", s, 10000000, 1000000, 2, 1000, 32, 30\n",
    "#     )\n",
    "# res_mean = numpy.mean(res, axis=2)\n",
    "# mean = numpy.mean(res_mean, axis=0)\n",
    "# sd = numpy.std(res_mean, axis=0)\n",
    "# hl = scipy.stats.t.ppf(0.975, 29) * sd / math.sqrt(30)\n",
    "# data_2_10m_max_size = numpy.vstack((s, mean, mean - hl, mean + hl)).T\n",
    "# data_2_10m_max_size"
   ]
  },
  {
   "cell_type": "markdown",
   "metadata": {},
   "source": [
    "### MSMW"
   ]
  },
  {
   "cell_type": "code",
   "execution_count": null,
   "metadata": {},
   "outputs": [],
   "source": [
    "res =\\\n",
    "    questa.runner.run_rep(\n",
    "        \"MSMW\", s, 10000000, 1000000, 2, 1000, 32, 30\n",
    "    )\n",
    "res_mean = numpy.mean(res, axis=2)\n",
    "mean = numpy.mean(res_mean, axis=0)\n",
    "sd = numpy.std(res_mean, axis=0)\n",
    "hl = scipy.stats.t.ppf(0.975, 29) * sd / math.sqrt(30)\n",
    "data_2_10m_msmw = numpy.vstack((s, mean, mean - hl, mean + hl)).T\n",
    "data_2_10m_msmw"
   ]
  },
  {
   "cell_type": "markdown",
   "metadata": {},
   "source": [
    "### MSMW Log"
   ]
  },
  {
   "cell_type": "code",
   "execution_count": null,
   "metadata": {},
   "outputs": [],
   "source": [
    "res =\\\n",
    "    questa.runner.run_rep(\n",
    "        \"MSMW_LOG\", s, 10000000, 1000000, 2, 1000, 32, 30\n",
    "    )\n",
    "res_mean = numpy.mean(res, axis=2)\n",
    "mean = numpy.mean(res_mean, axis=0)\n",
    "sd = numpy.std(res_mean, axis=0)\n",
    "hl = scipy.stats.t.ppf(0.975, 29) * sd / math.sqrt(30)\n",
    "data_2_10m_msmw_log = numpy.vstack((s, mean, mean - hl, mean + hl)).T\n",
    "data_2_10m_msmw_log"
   ]
  },
  {
   "cell_type": "markdown",
   "metadata": {},
   "source": [
    "### Plots"
   ]
  },
  {
   "cell_type": "code",
   "execution_count": null,
   "metadata": {},
   "outputs": [],
   "source": [
    "matplotlib.pyplot.plot(\n",
    "    data_2_10m_max_weight[9:20, 0],\n",
    "    data_2_10m_max_weight[9:20, 1],\n",
    "    label=\"Max Weight\"\n",
    ")\n",
    "matplotlib.pyplot.plot(\n",
    "    data_2_10m_max_weight[9:20, 0],\n",
    "    data_2_10m_max_weight[9:20, 2],\n",
    "    linestyle='--',\n",
    "    label=\"Max Weight 95% CI LB\"\n",
    ")\n",
    "matplotlib.pyplot.plot(\n",
    "    data_2_10m_max_weight[9:20, 0],\n",
    "    data_2_10m_max_weight[9:20, 3],\n",
    "    linestyle='--',\n",
    "    label=\"Max Weight 95% CI UB\"\n",
    ")\n",
    "matplotlib.pyplot.plot(\n",
    "    data_2_10m_msmw[9:20, 0],\n",
    "    data_2_10m_msmw[9:20, 1],\n",
    "    label=\"MSMW\"\n",
    ")\n",
    "matplotlib.pyplot.plot(\n",
    "    data_2_10m_msmw[9:20, 0],\n",
    "    data_2_10m_msmw[9:20, 2],\n",
    "    linestyle='--',\n",
    "    label=\"MSMW 95% CI LB\"\n",
    ")\n",
    "matplotlib.pyplot.plot(\n",
    "    data_2_10m_msmw[9:20, 0],\n",
    "    data_2_10m_msmw[9:20, 3],\n",
    "    linestyle='--',\n",
    "    label=\"MSMW 95% CI UB\"\n",
    ")\n",
    "matplotlib.pyplot.plot(\n",
    "    data_2_10m_msmw_log[9:20, 0],\n",
    "    data_2_10m_msmw_log[9:20, 1],\n",
    "    label=\"MSMW Log\"\n",
    ")\n",
    "matplotlib.pyplot.plot(\n",
    "    data_2_10m_msmw_log[9:20, 0],\n",
    "    data_2_10m_msmw_log[9:20, 2],\n",
    "    linestyle='--',\n",
    "    label=\"MSMW Log 95% CI LB\"\n",
    ")\n",
    "matplotlib.pyplot.plot(\n",
    "    data_2_10m_msmw_log[9:20, 0],\n",
    "    data_2_10m_msmw_log[9:20, 3],\n",
    "    linestyle='--',\n",
    "    label=\"MSMW Log 95% CI UB\"\n",
    ")\n",
    "matplotlib.pyplot.plot(\n",
    "    data_2_10m_msmw_log[9:20, 0],\n",
    "    data_2_10m_msmw_log[9:20, 0] ** 2 / \\\n",
    "        (2 * (1 - data_2_10m_msmw_log[9:20, 0])),\n",
    "    linestyle='--',\n",
    "    label=\"Universal Lower Bound\"\n",
    ")\n",
    "matplotlib.pyplot.title(r\"$E\\left[\\sum_{i, j}{Q_{i, j}}\\right] \\sim \\rho$\")\n",
    "matplotlib.pyplot.xlabel(r\"$\\rho$\")\n",
    "matplotlib.pyplot.ylabel(r\"$E\\left[\\sum_{i, j}{Q_{i, j}}\\right]$\")\n",
    "matplotlib.pyplot.legend()"
   ]
  },
  {
   "cell_type": "code",
   "execution_count": null,
   "metadata": {},
   "outputs": [],
   "source": [
    "matplotlib.pyplot.plot(\n",
    "    data_2_10m_max_weight[:, 0],\n",
    "    (1 - data_2_10m_max_weight[:, 0]) * data_2_10m_max_weight[:, 1],\n",
    "    label=\"Max Weight\"\n",
    ")\n",
    "matplotlib.pyplot.plot(\n",
    "    data_2_10m_max_weight[:, 0],\n",
    "    (1 - data_2_10m_max_weight[:, 0]) * data_2_10m_max_weight[:, 2],\n",
    "    linestyle='--',\n",
    "    label=\"Max Weight 95% CI LB\"\n",
    ")\n",
    "matplotlib.pyplot.plot(\n",
    "    data_2_10m_max_weight[:, 0],\n",
    "    (1 - data_2_10m_max_weight[:, 0]) * data_2_10m_max_weight[:, 3],\n",
    "    linestyle='--',\n",
    "    label=\"Max Weight 95% CI UB\"\n",
    ")\n",
    "matplotlib.pyplot.plot(\n",
    "    data_2_10m_msmw[:, 0],\n",
    "    (1 - data_2_10m_msmw[:, 0]) * data_2_10m_msmw[:, 1],\n",
    "    label=\"MSMW\"\n",
    ")\n",
    "matplotlib.pyplot.plot(\n",
    "    data_2_10m_msmw[:, 0],\n",
    "    (1 - data_2_10m_msmw[:, 0]) * data_2_10m_msmw[:, 2],\n",
    "    linestyle='--',\n",
    "    label=\"MSMW 95% CI LB\"\n",
    ")\n",
    "matplotlib.pyplot.plot(\n",
    "    data_2_10m_msmw[:, 0],\n",
    "    (1 - data_2_10m_msmw[:, 0]) * data_2_10m_msmw[:, 3],\n",
    "    linestyle='--',\n",
    "    label=\"MSMW 95% CI UB\"\n",
    ")\n",
    "matplotlib.pyplot.plot(\n",
    "    data_2_10m_msmw_log[:, 0],\n",
    "    (1 - data_2_10m_msmw_log[:, 0]) * data_2_10m_msmw_log[:, 1],\n",
    "    label=\"MSMW Log\"\n",
    ")\n",
    "matplotlib.pyplot.plot(\n",
    "    data_2_10m_msmw_log[:, 0],\n",
    "    (1 - data_2_10m_msmw_log[:, 0]) * data_2_10m_msmw_log[:, 2],\n",
    "    linestyle='--',\n",
    "    label=\"MSMW Log 95% CI LB\"\n",
    ")\n",
    "matplotlib.pyplot.plot(\n",
    "    data_2_10m_msmw_log[:, 0],\n",
    "    (1 - data_2_10m_msmw_log[:, 0]) * data_2_10m_msmw_log[:, 3],\n",
    "    linestyle='--',\n",
    "    label=\"MSMW Log 95% CI UB\"\n",
    ")\n",
    "matplotlib.pyplot.plot(\n",
    "    data_2_10m_msmw_log[:, 0],\n",
    "    data_2_10m_msmw_log[:, 0] ** 2,\n",
    "    linestyle='--',\n",
    "    label=\"Universal Lower Bound\"\n",
    ")\n",
    "matplotlib.pyplot.title(\n",
    "    r\"$(1 - \\rho)E\\left[\\sum_{i, j}{Q_{i, j}}\\right] \\sim \\rho$\")\n",
    "matplotlib.pyplot.xlabel(r\"$\\rho$\")\n",
    "matplotlib.pyplot.ylabel(r\"$(1 - \\rho)E\\left[\\sum_{i, j}{Q_{i, j}}\\right]$\")\n",
    "matplotlib.pyplot.legend()"
   ]
  },
  {
   "cell_type": "markdown",
   "metadata": {},
   "source": [
    "## 2 $\\times$ 2 Queue Length 100M Warmup 1M Iters 30 Repetitions"
   ]
  },
  {
   "cell_type": "markdown",
   "metadata": {},
   "source": [
    "### Max Weight"
   ]
  },
  {
   "cell_type": "code",
   "execution_count": null,
   "metadata": {},
   "outputs": [],
   "source": [
    "res =\\\n",
    "    questa.runner.run_rep(\n",
    "        \"MAX_WEIGHT\", s, 100000000, 1000000, 2, 1000, 32, 30\n",
    "    )\n",
    "res_mean = numpy.mean(res, axis=2)\n",
    "mean = numpy.mean(res_mean, axis=0)\n",
    "sd = numpy.std(res_mean, axis=0)\n",
    "hl = scipy.stats.t.ppf(0.975, 29) * sd / math.sqrt(30)\n",
    "data_2_100m_max_weight = numpy.vstack((s, mean, mean - hl, mean + hl)).T\n",
    "data_2_100m_max_weight"
   ]
  },
  {
   "cell_type": "markdown",
   "metadata": {},
   "source": [
    "### Max Size"
   ]
  },
  {
   "cell_type": "code",
   "execution_count": null,
   "metadata": {},
   "outputs": [],
   "source": [
    "# res =\\\n",
    "#     questa.runner.run_rep(\n",
    "#         \"MAX_SIZE\", s, 100000000, 1000000, 2, 1000, 32, 30\n",
    "#     )\n",
    "# res_mean = numpy.mean(res, axis=2)\n",
    "# mean = numpy.mean(res_mean, axis=0)\n",
    "# sd = numpy.std(res_mean, axis=0)\n",
    "# hl = scipy.stats.t.ppf(0.975, 29) * sd / math.sqrt(30)\n",
    "# data_2_100m_max_size = numpy.vstack((s, mean, mean - hl, mean + hl)).T\n",
    "# data_2_100m_max_size"
   ]
  },
  {
   "cell_type": "markdown",
   "metadata": {},
   "source": [
    "### MSMW"
   ]
  },
  {
   "cell_type": "code",
   "execution_count": null,
   "metadata": {},
   "outputs": [],
   "source": [
    "res =\\\n",
    "    questa.runner.run_rep(\n",
    "        \"MSMW\", s, 100000000, 1000000, 2, 1000, 32, 30\n",
    "    )\n",
    "res_mean = numpy.mean(res, axis=2)\n",
    "mean = numpy.mean(res_mean, axis=0)\n",
    "sd = numpy.std(res_mean, axis=0)\n",
    "hl = scipy.stats.t.ppf(0.975, 29) * sd / math.sqrt(30)\n",
    "data_2_100m_msmw = numpy.vstack((s, mean, mean - hl, mean + hl)).T\n",
    "data_2_100m_msmw"
   ]
  },
  {
   "cell_type": "markdown",
   "metadata": {},
   "source": [
    "### MSMW Log"
   ]
  },
  {
   "cell_type": "code",
   "execution_count": null,
   "metadata": {},
   "outputs": [],
   "source": [
    "res =\\\n",
    "    questa.runner.run_rep(\n",
    "        \"MSMW_LOG\", s, 100000000, 1000000, 2, 1000, 32, 30\n",
    "    )\n",
    "res_mean = numpy.mean(res, axis=2)\n",
    "mean = numpy.mean(res_mean, axis=0)\n",
    "sd = numpy.std(res_mean, axis=0)\n",
    "hl = scipy.stats.t.ppf(0.975, 29) * sd / math.sqrt(30)\n",
    "data_2_100m_msmw_log = numpy.vstack((s, mean, mean - hl, mean + hl)).T\n",
    "data_2_100m_msmw_log"
   ]
  },
  {
   "cell_type": "markdown",
   "metadata": {},
   "source": [
    "### Plots"
   ]
  },
  {
   "cell_type": "code",
   "execution_count": null,
   "metadata": {},
   "outputs": [],
   "source": [
    "matplotlib.pyplot.plot(\n",
    "    data_2_100m_max_weight[9:20, 0],\n",
    "    data_2_100m_max_weight[9:20, 1],\n",
    "    label=\"Max Weight\"\n",
    ")\n",
    "matplotlib.pyplot.plot(\n",
    "    data_2_100m_max_weight[9:20, 0],\n",
    "    data_2_100m_max_weight[9:20, 2],\n",
    "    linestyle='--',\n",
    "    label=\"Max Weight 95% CI LB\"\n",
    ")\n",
    "matplotlib.pyplot.plot(\n",
    "    data_2_100m_max_weight[9:20, 0],\n",
    "    data_2_100m_max_weight[9:20, 3],\n",
    "    linestyle='--',\n",
    "    label=\"Max Weight 95% CI UB\"\n",
    ")\n",
    "matplotlib.pyplot.plot(\n",
    "    data_2_100m_msmw[9:20, 0],\n",
    "    data_2_100m_msmw[9:20, 1],\n",
    "    label=\"MSMW\"\n",
    ")\n",
    "matplotlib.pyplot.plot(\n",
    "    data_2_100m_msmw[9:20, 0],\n",
    "    data_2_100m_msmw[9:20, 2],\n",
    "    linestyle='--',\n",
    "    label=\"MSMW 95% CI LB\"\n",
    ")\n",
    "matplotlib.pyplot.plot(\n",
    "    data_2_100m_msmw[9:20, 0],\n",
    "    data_2_100m_msmw[9:20, 3],\n",
    "    linestyle='--',\n",
    "    label=\"MSMW 95% CI UB\"\n",
    ")\n",
    "matplotlib.pyplot.plot(\n",
    "    data_2_100m_msmw_log[9:20, 0],\n",
    "    data_2_100m_msmw_log[9:20, 1],\n",
    "    label=\"MSMW Log\"\n",
    ")\n",
    "matplotlib.pyplot.plot(\n",
    "    data_2_100m_msmw_log[9:20, 0],\n",
    "    data_2_100m_msmw_log[9:20, 2],\n",
    "    linestyle='--',\n",
    "    label=\"MSMW Log 95% CI LB\"\n",
    ")\n",
    "matplotlib.pyplot.plot(\n",
    "    data_2_100m_msmw_log[9:20, 0],\n",
    "    data_2_100m_msmw_log[9:20, 3],\n",
    "    linestyle='--',\n",
    "    label=\"MSMW Log 95% CI UB\"\n",
    ")\n",
    "matplotlib.pyplot.plot(\n",
    "    data_2_100m_msmw_log[9:20, 0],\n",
    "    2 * data_2_100m_msmw_log[9:20, 0] ** 2 /\\\n",
    "        (2 * (1 - data_2_100m_msmw_log[9:20, 0])),\n",
    "    linestyle='--',\n",
    "    label=\"Universal Lower Bound\"\n",
    ")\n",
    "matplotlib.pyplot.title(r\"$E\\left[\\sum_{i, j}{Q_{i, j}}\\right] \\sim \\rho$\")\n",
    "matplotlib.pyplot.xlabel(r\"$\\rho$\")\n",
    "matplotlib.pyplot.ylabel(r\"$E\\left[\\sum_{i, j}{Q_{i, j}}\\right]$\")\n",
    "matplotlib.pyplot.legend()"
   ]
  },
  {
   "cell_type": "code",
   "execution_count": null,
   "metadata": {},
   "outputs": [],
   "source": [
    "matplotlib.pyplot.plot(\n",
    "    data_2_100m_max_weight[:, 0],\n",
    "    (1 - data_2_100m_max_weight[:, 0]) * data_2_100m_max_weight[:, 1],\n",
    "    label=\"Max Weight\"\n",
    ")\n",
    "matplotlib.pyplot.plot(\n",
    "    data_2_100m_max_weight[:, 0],\n",
    "    (1 - data_2_100m_max_weight[:, 0]) * data_2_100m_max_weight[:, 2],\n",
    "    linestyle='--',\n",
    "    label=\"Max Weight 95% CI LB\"\n",
    ")\n",
    "matplotlib.pyplot.plot(\n",
    "    data_2_100m_max_weight[:, 0],\n",
    "    (1 - data_2_100m_max_weight[:, 0]) * data_2_100m_max_weight[:, 3],\n",
    "    linestyle='--',\n",
    "    label=\"Max Weight 95% CI UB\"\n",
    ")\n",
    "matplotlib.pyplot.plot(\n",
    "    data_2_100m_msmw[:, 0],\n",
    "    (1 - data_2_100m_msmw[:, 0]) * data_2_100m_msmw[:, 1],\n",
    "    label=\"MSMW\"\n",
    ")\n",
    "matplotlib.pyplot.plot(\n",
    "    data_2_100m_msmw[:, 0],\n",
    "    (1 - data_2_100m_msmw[:, 0]) * data_2_100m_msmw[:, 2],\n",
    "    linestyle='--',\n",
    "    label=\"MSMW 95% CI LB\"\n",
    ")\n",
    "matplotlib.pyplot.plot(\n",
    "    data_2_100m_msmw[:, 0],\n",
    "    (1 - data_2_100m_msmw[:, 0]) * data_2_100m_msmw[:, 3],\n",
    "    linestyle='--',\n",
    "    label=\"MSMW 95% CI UB\"\n",
    ")\n",
    "matplotlib.pyplot.plot(\n",
    "    data_2_100m_msmw_log[:, 0],\n",
    "    (1 - data_2_100m_msmw_log[:, 0]) * data_2_100m_msmw_log[:, 1],\n",
    "    label=\"MSMW Log\"\n",
    ")\n",
    "matplotlib.pyplot.plot(\n",
    "    data_2_100m_msmw_log[:, 0],\n",
    "    (1 - data_2_100m_msmw_log[:, 0]) * data_2_100m_msmw_log[:, 2],\n",
    "    linestyle='--',\n",
    "    label=\"MSMW Log 95% CI LB\"\n",
    ")\n",
    "matplotlib.pyplot.plot(\n",
    "    data_2_100m_msmw_log[:, 0],\n",
    "    (1 - data_2_100m_msmw_log[:, 0]) * data_2_100m_msmw_log[:, 3],\n",
    "    linestyle='--',\n",
    "    label=\"MSMW Log 95% CI UB\"\n",
    ")\n",
    "matplotlib.pyplot.plot(\n",
    "    data_2_100m_msmw_log[:, 0],\n",
    "    data_2_100m_msmw_log[:, 0] ** 2,\n",
    "    linestyle='--',\n",
    "    label=\"Universal Lower Bound\"\n",
    ")\n",
    "matplotlib.pyplot.title(\n",
    "    r\"$(1 - \\rho)E\\left[\\sum_{i, j}{Q_{i, j}}\\right] \\sim \\rho$\")\n",
    "matplotlib.pyplot.xlabel(r\"$\\rho$\")\n",
    "matplotlib.pyplot.ylabel(r\"$(1 - \\rho)E\\left[\\sum_{i, j}{Q_{i, j}}\\right]$\")\n",
    "matplotlib.pyplot.legend()"
   ]
  }
 ],
 "metadata": {
  "kernelspec": {
   "display_name": "Python 3 (ipykernel)",
   "language": "python",
   "name": "python3"
  },
  "language_info": {
   "codemirror_mode": {
    "name": "ipython",
    "version": 3
   },
   "file_extension": ".py",
   "mimetype": "text/x-python",
   "name": "python",
   "nbconvert_exporter": "python",
   "pygments_lexer": "ipython3",
   "version": "3.11.2"
  }
 },
 "nbformat": 4,
 "nbformat_minor": 4
}
